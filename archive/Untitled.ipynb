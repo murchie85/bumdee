{
 "cells": [
  {
   "cell_type": "code",
   "execution_count": 5,
   "metadata": {},
   "outputs": [],
   "source": [
    "d1 = {'day':6,'date':30,'month':11,'year':1999,'hour':23,'minute':57,'seconds':59}\n",
    "d2 = {'day':0,'date':1,'month':0,'year':2000,'hour':23,'minute':57,'seconds':59}"
   ]
  },
  {
   "cell_type": "code",
   "execution_count": 6,
   "metadata": {},
   "outputs": [
    {
     "ename": "TypeError",
     "evalue": "unsupported operand type(s) for -: 'dict' and 'dict'",
     "output_type": "error",
     "traceback": [
      "\u001b[0;31m---------------------------------------------------------------------------\u001b[0m",
      "\u001b[0;31mTypeError\u001b[0m                                 Traceback (most recent call last)",
      "\u001b[0;32m<ipython-input-6-cd6a8c019523>\u001b[0m in \u001b[0;36m<module>\u001b[0;34m\u001b[0m\n\u001b[0;32m----> 1\u001b[0;31m \u001b[0md2\u001b[0m\u001b[0;34m-\u001b[0m\u001b[0md1\u001b[0m\u001b[0;34m\u001b[0m\u001b[0;34m\u001b[0m\u001b[0m\n\u001b[0m",
      "\u001b[0;31mTypeError\u001b[0m: unsupported operand type(s) for -: 'dict' and 'dict'"
     ]
    }
   ],
   "source": [
    "def daysPassed(d2,d1):\n",
    "    # no years passed\n",
    "    if(d1[year]==d2[year]):\n",
    "        totalDays = 0\n",
    "        monthDays = d2[month] - d1[month]\n",
    "        \n",
    "        totalDays += monthDays\n",
    "        if(monthDays>0):"
   ]
  },
  {
   "cell_type": "code",
   "execution_count": null,
   "metadata": {},
   "outputs": [],
   "source": [
    "userInput = '' # Leave it empty to begin with, as it will return False on the check\n",
    "while(userInput.isalpha()==False):\n",
    "    # Ask for Input\n",
    "    userInput = input('What is your name? \\n')\n",
    "    \n",
    "    # User entered Incorrectly, get them telt\n",
    "    if(userInput.isalpha()==False):\n",
    "        print(\"Please enter a name using alpha values only.\")"
   ]
  },
  {
   "cell_type": "code",
   "execution_count": 13,
   "metadata": {},
   "outputs": [
    {
     "data": {
      "text/plain": [
       "True"
      ]
     },
     "execution_count": 13,
     "metadata": {},
     "output_type": "execute_result"
    }
   ],
   "source": []
  },
  {
   "cell_type": "code",
   "execution_count": null,
   "metadata": {},
   "outputs": [],
   "source": [
    "#Part 1(a)\n",
    "company_name = input(\"Please enter the company name, using alphabetic characters only\")\n",
    "#Still to add restriction for aphabetic characters only\n",
    "if len(company_name) >=5:\n",
    "    print(company_name[:5].upper())\n",
    "elif len(company_name) <5:\n",
    "    print(company_name.ljust(5, 'Q'))"
   ]
  }
 ],
 "metadata": {
  "kernelspec": {
   "display_name": "Python 3",
   "language": "python",
   "name": "python3"
  },
  "language_info": {
   "codemirror_mode": {
    "name": "ipython",
    "version": 3
   },
   "file_extension": ".py",
   "mimetype": "text/x-python",
   "name": "python",
   "nbconvert_exporter": "python",
   "pygments_lexer": "ipython3",
   "version": "3.7.6"
  }
 },
 "nbformat": 4,
 "nbformat_minor": 4
}
