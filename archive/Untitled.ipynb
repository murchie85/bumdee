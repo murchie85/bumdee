{
 "cells": [
  {
   "cell_type": "markdown",
   "metadata": {},
   "source": [
    "# Dundee United Project"
   ]
  },
  {
   "cell_type": "markdown",
   "metadata": {},
   "source": [
    "![](https://i2-prod.dailyrecord.co.uk/incoming/article25231717.ece/ALTERNATES/s1200c/0_Hibernian-FC-v-Dundee-United-Cinch-Scottish-Premiership.jpg)\n"
   ]
  },
  {
   "cell_type": "code",
   "execution_count": 2,
   "metadata": {},
   "outputs": [
    {
     "name": "stdout",
     "output_type": "stream",
     "text": [
      "hello\n"
     ]
    }
   ],
   "source": [
    "print('hello')"
   ]
  },
  {
   "cell_type": "code",
   "execution_count": 3,
   "metadata": {},
   "outputs": [
    {
     "name": "stdout",
     "output_type": "stream",
     "text": [
      "dufc\n"
     ]
    }
   ],
   "source": [
    "\"\"\"\n",
    "xxxxx\n",
    "xxxxx\n",
    "xxxxx\n",
    "xxxxx\n",
    "\"\"\""
   ]
  },
  {
   "cell_type": "code",
   "execution_count": 6,
   "metadata": {},
   "outputs": [
    {
     "name": "stdout",
     "output_type": "stream",
     "text": [
      "xxxxxx\n",
      "xxxxxx\n",
      "xxxxxx\n",
      "xxxxxx\n",
      "xxxxxx\n"
     ]
    }
   ],
   "source": [
    "\n",
    "printLine = \"\"\n",
    "\n",
    "for row in range(5):\n",
    "    printLine = 'x'\n",
    "    \n",
    "    for column in range(5):\n",
    "        printLine = printLine + 'x'\n",
    "        \n",
    "    print(printLine)"
   ]
  },
  {
   "cell_type": "code",
   "execution_count": null,
   "metadata": {},
   "outputs": [],
   "source": []
  }
 ],
 "metadata": {
  "kernelspec": {
   "display_name": "Python 3",
   "language": "python",
   "name": "python3"
  },
  "language_info": {
   "codemirror_mode": {
    "name": "ipython",
    "version": 3
   },
   "file_extension": ".py",
   "mimetype": "text/x-python",
   "name": "python",
   "nbconvert_exporter": "python",
   "pygments_lexer": "ipython3",
   "version": "3.7.6"
  }
 },
 "nbformat": 4,
 "nbformat_minor": 4
}
