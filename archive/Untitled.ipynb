{
 "cells": [
  {
   "cell_type": "code",
   "execution_count": 1,
   "metadata": {},
   "outputs": [],
   "source": [
    "arr = [[1, 'Cheryl', 'Welcome to Bumdonian, have a look around and talk to Adam McMurchie if you get stuck. This game is a work in progress and not yet complete, it takes inpsiration from Drug wars, Undertale, Shenzhen IO and other classics. Please send any feedback my way.', 'pics/characters/Phoebe.png'], [2, 'Adam', 'Hello you prick, did you forget already?', 'pics/characters/Chester.png'], [3, 'Boris', 'Hi, please support my next election campaign and I promise to prevent mandatory organ donations'], [4, 'Cynthia', 'Dont text me again you creep', 'pics/characters/Jane.png'], [5, 'Python', 'Traceback (most recent call last): ...why bother you cant code anyway.'], [8, 'Dominic', 'Got any jobs going mate?', 'pics/characters/Gregg.png'], [7, 'Morphius', 'How did you get this number?'], [99, 'Cheryl', 'Welcome to Bumdonian, have a look around and talk to Adam McMurchie if you get stuck. This game is a work in progress and not yet complete, it takes inpsiration from Drug wars, Undertale, Shenzhen IO and other classics. Please send any feedback my way. Good luck', 'pics/characters/Phoebe.png']]"
   ]
  },
  {
   "cell_type": "code",
   "execution_count": 2,
   "metadata": {},
   "outputs": [
    {
     "data": {
      "text/plain": [
       "[[1,\n",
       "  'Cheryl',\n",
       "  'Welcome to Bumdonian, have a look around and talk to Adam McMurchie if you get stuck. This game is a work in progress and not yet complete, it takes inpsiration from Drug wars, Undertale, Shenzhen IO and other classics. Please send any feedback my way.',\n",
       "  'pics/characters/Phoebe.png'],\n",
       " [2,\n",
       "  'Adam',\n",
       "  'Hello you prick, did you forget already?',\n",
       "  'pics/characters/Chester.png'],\n",
       " [3,\n",
       "  'Boris',\n",
       "  'Hi, please support my next election campaign and I promise to prevent mandatory organ donations'],\n",
       " [4, 'Cynthia', 'Dont text me again you creep', 'pics/characters/Jane.png'],\n",
       " [5,\n",
       "  'Python',\n",
       "  'Traceback (most recent call last): ...why bother you cant code anyway.'],\n",
       " [8, 'Dominic', 'Got any jobs going mate?', 'pics/characters/Gregg.png'],\n",
       " [7, 'Morphius', 'How did you get this number?'],\n",
       " [99,\n",
       "  'Cheryl',\n",
       "  'Welcome to Bumdonian, have a look around and talk to Adam McMurchie if you get stuck. This game is a work in progress and not yet complete, it takes inpsiration from Drug wars, Undertale, Shenzhen IO and other classics. Please send any feedback my way. Good luck',\n",
       "  'pics/characters/Phoebe.png']]"
      ]
     },
     "execution_count": 2,
     "metadata": {},
     "output_type": "execute_result"
    }
   ],
   "source": [
    "arr"
   ]
  },
  {
   "cell_type": "code",
   "execution_count": 6,
   "metadata": {},
   "outputs": [],
   "source": []
  },
  {
   "cell_type": "code",
   "execution_count": 7,
   "metadata": {},
   "outputs": [
    {
     "data": {
      "text/plain": [
       "[[99,\n",
       "  'Cheryl',\n",
       "  'Welcome to Bumdonian, have a look around and talk to Adam McMurchie if you get stuck. This game is a work in progress and not yet complete, it takes inpsiration from Drug wars, Undertale, Shenzhen IO and other classics. Please send any feedback my way. Good luck',\n",
       "  'pics/characters/Phoebe.png'],\n",
       " [8, 'Dominic', 'Got any jobs going mate?', 'pics/characters/Gregg.png'],\n",
       " [7, 'Morphius', 'How did you get this number?'],\n",
       " [5,\n",
       "  'Python',\n",
       "  'Traceback (most recent call last): ...why bother you cant code anyway.'],\n",
       " [4, 'Cynthia', 'Dont text me again you creep', 'pics/characters/Jane.png'],\n",
       " [3,\n",
       "  'Boris',\n",
       "  'Hi, please support my next election campaign and I promise to prevent mandatory organ donations'],\n",
       " [2,\n",
       "  'Adam',\n",
       "  'Hello you prick, did you forget already?',\n",
       "  'pics/characters/Chester.png'],\n",
       " [1,\n",
       "  'Cheryl',\n",
       "  'Welcome to Bumdonian, have a look around and talk to Adam McMurchie if you get stuck. This game is a work in progress and not yet complete, it takes inpsiration from Drug wars, Undertale, Shenzhen IO and other classics. Please send any feedback my way.',\n",
       "  'pics/characters/Phoebe.png']]"
      ]
     },
     "execution_count": 7,
     "metadata": {},
     "output_type": "execute_result"
    }
   ],
   "source": [
    "arr"
   ]
  },
  {
   "cell_type": "code",
   "execution_count": null,
   "metadata": {},
   "outputs": [],
   "source": []
  }
 ],
 "metadata": {
  "kernelspec": {
   "display_name": "Python 3",
   "language": "python",
   "name": "python3"
  },
  "language_info": {
   "codemirror_mode": {
    "name": "ipython",
    "version": 3
   },
   "file_extension": ".py",
   "mimetype": "text/x-python",
   "name": "python",
   "nbconvert_exporter": "python",
   "pygments_lexer": "ipython3",
   "version": "3.7.6"
  }
 },
 "nbformat": 4,
 "nbformat_minor": 4
}
